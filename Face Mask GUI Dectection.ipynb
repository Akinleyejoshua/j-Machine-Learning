{
 "cells": [
  {
   "cell_type": "code",
   "execution_count": 1,
   "metadata": {},
   "outputs": [],
   "source": [
    "import pickle as pk\n",
    "from tkinter import *\n",
    "from tkinter import ttk\n",
    "import numpy as np\n",
    "import matplotlib.pyplot as plt"
   ]
  },
  {
   "cell_type": "code",
   "execution_count": 2,
   "metadata": {},
   "outputs": [
    {
     "data": {
      "text/plain": [
       "''"
      ]
     },
     "execution_count": 2,
     "metadata": {},
     "output_type": "execute_result"
    }
   ],
   "source": [
    "app = Tk()\n",
    "app.title(\"Face Mask Detection\")"
   ]
  },
  {
   "cell_type": "code",
   "execution_count": 5,
   "metadata": {},
   "outputs": [],
   "source": [
    "model = pk.load(open(\"Face mask model.pkl\", \"rb\"))\n",
    "ttk.Label(text=\"Input img Path here\").grid(row=0, column=0)\n",
    "img_path = StringVar()\n",
    "img_input = ttk.Entry(textvariable=img_path)\n",
    "img_input.grid(row=1)\n",
    "\n",
    "def predict():\n",
    "    img_plt = plt.imread(img_path.get())\n",
    "    img_plt = np.array(img_plt)\n",
    "    img_plt.resize(64, )\n",
    "    pred = model.predict([img_plt])\n",
    "    ttk.Label(text=\"\").grid(row=3)\n",
    "    ttk.Label(text=pred).grid(row=3)\n",
    "\n",
    "ttk.Button(text=\"Predict\", command=predict).grid(row=2)"
   ]
  },
  {
   "cell_type": "code",
   "execution_count": 4,
   "metadata": {},
   "outputs": [],
   "source": [
    "app.mainloop()"
   ]
  }
 ],
 "metadata": {
  "kernelspec": {
   "display_name": "Python 3",
   "language": "python",
   "name": "python3"
  },
  "language_info": {
   "codemirror_mode": {
    "name": "ipython",
    "version": 3
   },
   "file_extension": ".py",
   "mimetype": "text/x-python",
   "name": "python",
   "nbconvert_exporter": "python",
   "pygments_lexer": "ipython3",
   "version": "3.8.5"
  }
 },
 "nbformat": 4,
 "nbformat_minor": 2
}
